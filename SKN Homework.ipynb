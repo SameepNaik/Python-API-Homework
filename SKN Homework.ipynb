{
 "cells": [
  {
   "cell_type": "code",
   "execution_count": 10,
   "metadata": {},
   "outputs": [],
   "source": [
    "# Dependencies and Setup\n",
    "import matplotlib.pyplot as plt\n",
    "import pandas as pd\n",
    "import numpy as np\n",
    "import requests\n",
    "import time\n",
    "from pprint import pprint\n",
    "\n",
    "# Import API key\n",
    "from config import weather_api_key\n",
    "api_key = \"ec2e1b48db830968d357cafb100014f5\"\n",
    "\n",
    "# Incorporated citipy to determine city based on latitude and longitude\n",
    "from citipy import citipy\n",
    "\n",
    "# Output File (CSV)\n",
    "output_data_file = \"cities.csv\"\n",
    "\n",
    "# Range of latitudes and longitudes\n",
    "lat_range = (-90, 90)\n",
    "lng_range = (-180, 180)"
   ]
  },
  {
   "cell_type": "code",
   "execution_count": 11,
   "metadata": {},
   "outputs": [
    {
     "name": "stdout",
     "output_type": "stream",
     "text": [
      "['abu jubayhah', 'codrington', 'vaini', 'guiuan', 'punta arenas', 'nkhata bay', 'ushuaia', 'broken hill', 'taolanaro', 'albany', 'saldanha', 'provideniya', 'daru', 'marquette', 'thompson', 'chulym', 'arraial do cabo', 'samfya', 'bereda', 'kapaa', 'guilin', 'severnoye', 'san policarpo', 'huangchuan', 'mataura', 'rikitea', 'barrow', 'deputatskiy', 'tasiilaq', 'mumford', 'sao filipe', 'busselton', 'bilma', 'toamasina', 'severo-kurilsk', 'bathsheba', 'cherskiy', 'fort myers beach', 'port hardy', 'marsa matruh', 'nuevo progreso', 'omaruru', 'hualmay', 'new norfolk', 'saurimo', 'yelizovo', 'mogadishu', 'hithadhoo', 'lasa', 'port alfred', 'kawalu', 'hobart', 'juneau', 'morehead', 'mahebourg', 'husavik', 'carnarvon', 'gazojak', 'ostrovnoy', 'barentsburg', 'hermanus', 'gandai', 'belushya guba', 'chokurdakh', 'ribeira grande', 'upernavik', 'westport', 'tiksi', 'ponta do sol', 'puerto ayora', 'adrar', 'faya', 'airai', 'naryan-mar', 'mbala', 'vaitupu', 'lebu', 'aksum', 'san quintin', 'launceston', 'diu', 'kalmunai', 'gold coast', 'orange cove', 'bluff', 'san cristobal', 'wattegama', 'chuy', 'bengkulu', 'yellowknife', 'puke', 'mar del plata', 'avera', 'illoqqortoormiut', 'ust-kamchatsk', 'nikolskoye', 'camacha', 'yenagoa', 'neya', 'pevek', 'jamestown', 'saint-philippe', 'tazovskiy', 'constitucion', 'butaritari', 'bethel', 'bambous virieux', 'klaksvik', 'kiunga', 'surandai', 'chimbote', 'hamilton', 'ahipara', 'sidi ali', 'kilembe', 'cururupu', 'felanitx', 'tura', 'pangkalanbuun', 'vanino', 'kamaishi', 'goba', 'atuona', 'sigerfjord', 'maxixe', 'tyristrand', 'luderitz', 'vila franca do campo', 'avarua', 'talnakh', 'cooma', 'port hedland', 'khatanga', 'dikson', 'fort nelson', 'kissidougou', 'mys shmidta', 'buchanan', 'sentyabrskiy', 'pizarro', 'sindon', 'tucumcari', 'meulaboh', 'fortuna', 'hof', 'estacion coahuila', 'maun', 'ambanja', 'akdepe', 'piacabucu', 'port-cartier', 'padang', 'east london', 'georgetown', 'hofn', 'coquimbo', 'dunedin', 'krasnoselkup', 'caranavi', 'zhangye', 'laguna', 'port lincoln', 'umzimvubu', 'mokolo', 'saskylakh', 'amderma', 'ayan', 'mikhaylovka', 'pangnirtung', 'kapit', 'cape town', 'san patricio', 'longyearbyen', 'hasaki', 'zhongshu', 'alghero', 'iberia', 'port elizabeth', 'elko', 'ust-nera', 'dingle', 'sebastian', 'manubul', 'qaanaaq', 'itarema', 'gat', 'voh', 'maragogi', 'mazagao', 'klamath falls', 'teknaf', 'pitimbu', 'richards bay', 'kaitangata', 'salinopolis', 'victoria', 'kjopsvik', 'nome', 'nijar', 'castro', 'grand river south east', 'ilulissat', 'louisbourg', 'grindavik', 'santo antonio do ica', 'rungata', 'gizo', 'ust-kishert', 'sao jose da coroa grande', 'korla', 'port pirie', 'ulaangom', 'poplar bluff', 'tumannyy', 'chake chake', 'esperance', 'tamiahua', 'torbay', 'chicama', 'bosaso', 'ngukurr', 'guerrero negro', 'bredasdorp', 'tukrah', 'tual', 'bambanglipuro', 'mecca', 'haines junction', 'xiantao', 'coihaique', 'iqaluit', 'sassandra', 'kondinskoye', 'college', 'galle', 'zhoucheng', 'tuatapere', 'kavieng', 'naenwa', 'alakurtti', 'himora', 'vestmannaeyjar', 'kathmandu', 'khandyga', 'tuktoyaktuk', 'mariental', 'hilo', 'sawasawa', 'souillac', 'mount gambier', 'awjilah', 'birao', 'bordighera', 'kimbe', 'mabaruma', 'gamba', 'muli', 'tilichiki', 'botesti', 'aksu', 'olinda', 'tsihombe', 'ituni', 'yenotayevka', 'geraldton', 'norman wells', 'sioux lookout', 'dali', 'van', 'high rock', 'tubuala', 'kargasok', 'ewa beach', 'manchester', 'gardan diwal', 'ambon', 'smithers', 'tunceli', 'bireun', 'cabo san lucas', 'bonthe', 'celestun', 'paita', 'queimadas', 'san carlos', 'banda aceh', 'teahupoo', 'murray bridge', 'nizhneyansk', 'umea', 'savannah bight', 'nemuro', 'yulara', 'palabuhanratu', 'mahon', 'marcona', 'vardo', 'tigil', 'gondanglegi', 'utiroa', 'beloha', 'attawapiskat', 'kenai', 'kibala', 'taburi', 'vilyuysk', 'mzimba', 'mombasa', 'satitoa', 'russell', 'hede', 'isangel', 'saint george', 'karamay', 'qandahar', 'kuching', 'itanagar', 'leixlip', 'uniao da victoria', 'labutta', 'lerwick', 'eirunepe', 'haicheng', 'sao joao da barra', 'kazachinskoye', 'balad', 'hovd', 'tel aviv-yafo', 'obluche', 'narsaq', 'alofi', 'abu dhabi', 'manjeri', 'clyde river', 'lompoc', 'mehamn', 'pagman', 'viligili', 'thinadhoo', 'bubaque', 'sao felix do xingu', 'troitsko-pechorsk', 'porto santo', 'koutiala', 'koumac', 'batagay', 'mana', 'belaya gora', 'finschhafen', 'wamba', 'dhidhdhoo', 'kyshtovka', 'manyana', 'altay', 'statesboro', 'komsomolskiy', 'jaragua', 'burnie', 'cap-aux-meules', 'penzance', 'kattivakkam', 'beringovskiy', 'fuerte olimpo', 'ijaki', 'rorvik', 'camacari', 'sorland', 'cabinda', 'dinguiraye', 'kodinsk', 'azul', 'churapcha', 'vao', 'tidore', 'ereymentau', 'garowe', 'kasongo-lunda', 'coahuayana', 'samusu', 'cidreira', 'tabou', 'berlevag', 'puerto escondido', 'burewala', 'shingu', 'resistencia', 'coulihaut', 'surt', 'margate', 'grants', 'san ignacio', 'nantucket', 'bograd', 'ovalle', 'kyabram', 'batagay-alyta', 'winona', 'tsevie', 'fairbanks', 'victor harbor', 'kavaratti', 'yerbogachen', 'nadym', 'strezhevoy', 'broome', 'camopi', 'salalah', 'sao gabriel da cachoeira', 'kamenka', 'puerto del rosario', 'macusani', 'porto novo', 'da nang', 'chilca', 'taltal', 'quatre cocos', 'atambua', 'machala', 'goure', 'saleaula', 'hays', 'cap malheureux', 'sile', 'dubai', 'champerico', 'progreso', 'cayenne', 'kodiak', 'archidona', 'lethem', 'cascais', 'nanortalik', 'alta floresta', 'kupang', 'lorengau', 'weihe', 'beruwala', 'zunyi', 'okitipupa', 'kieta', 'baykit', 'xining', 'kahului', 'marystown', 'mirpur khas', 'harper', 'bongandanga', 'nogales', 'rio grande', 'mattru', 'qaqortoq', 'nuevo casas grandes', 'pyay', 'viseu', 'iranshahr', 'kulhudhuffushi', 'hambantota', 'halalo', 'comodoro rivadavia', 'viedma', 'staryy nadym', 'kharp', 'vila velha', 'sitka', 'kajaani', 'yarkovo', 'manta', 'watsa', 'waipawa', 'sergeyevka', 'narkanda', 'urdzhar', 'amapa', 'xunchang', 'tabiauea', 'sakakah', 'kuche', 'kruisfontein', 'arman', 'bocaranga', 'san vicente', 'pritzwalk', 'san ramon', 'baley', 'rodionovo-nesvetayskaya', 'hailar', 'araceli', 'zaros', 'vostok', 'karasjok', 'ahuimanu', 'dharchula', 'faanui', 'aksay', 'jardim', 'great falls', 'barcelos', 'sao desiderio', 'nouadhibou', 'saryshagan', 'goundam', 'sodertalje', 'mackenzie', 'maldonado', 'egvekinot', 'las cruces', 'shache', 'srednekolymsk', 'saint-augustin', 'pithapuram', 'calvinia', 'lashio', 'superior', 'makaryev', 'wajid', 'ilhabela', 'annau', 'kenora', 'cockburn town', 'goundi', 'santo antonio do taua', 'asau', 'belle glade', 'lokosovo', 'kolondieba', 'benjamin aceval', 'rocha', 'singaparna', 'ishigaki', 'pochutla', 'solwezi', 'montanhas', 'saint-gilles', 'carora', 'lamu', 'yuci', 'hami', 'beatrice', 'tepalcatepec', 'trindade', 'anloga', 'benghazi', 'shubarkuduk', 'anadyr', 'nizhnyaya pavlovka', 'grand gaube', 'vwawa', 'nizwa', 'port augusta', 'warrington', 'maltahohe', 'krabi', 'encruzilhada do sul', 'palmer', 'barcelona', 'ola', 'flin flon', 'nabire', 'bamako', 'soller', 'cassilandia', 'byron bay', 'nizhniy kuranakh', 'opuwo', 'great yarmouth', 'riberalta', 'brownwood', 'alice springs', 'weligama', 'saint-joseph', 'bhachau', 'manjeshwar', 'thaton', 'pandan', 'kysyl-syr', 'troitskoye', 'magistralnyy', 'lazarev', 'shu', 'bonavista', 'dayong', 'kampot', 'shanghai', 'makakilo city', 'izberbash', 'show low', 'cabatuan', 'noumea', 'tessalit', 'pesochnoye', 'tillabery', 'muisne', 'ust-omchug', 'novo selo', 'basco', 'treinta y tres', 'northam', 'jumla', 'caohe', 'surskoye', 'purpe', 'henties bay', 'bac lieu', 'lagoa', 'eyl', 'verkhnyaya inta', 'nguiu', 'cosala', 'safranbolu', 'lahij', 'ouadda', 'alpena', 'waspan']\n"
     ]
    }
   ],
   "source": [
    "# List for holding lat_lngs and cities\n",
    "lat_lngs = []\n",
    "cities = []\n",
    "\n",
    "# Create a set of random lat and lng combinations\n",
    "lats = np.random.uniform(low=-90.000, high=90.000, size=1500)\n",
    "lngs = np.random.uniform(low=-180.000, high=180.000, size=1500)\n",
    "lat_lngs = zip(lats, lngs)\n",
    "\n",
    "# Identify nearest city for each lat, lng combination\n",
    "for lat_lng in lat_lngs:\n",
    "    city = citipy.nearest_city(lat_lng[0], lat_lng[1]).city_name\n",
    "    \n",
    "    # If the city is unique, then add it to a our cities list\n",
    "    if city not in cities:\n",
    "        cities.append(city)\n",
    "\n",
    "# Print the city count to confirm sufficient count\n",
    "len(cities)\n",
    "print(cities)"
   ]
  },
  {
   "cell_type": "code",
   "execution_count": 12,
   "metadata": {},
   "outputs": [],
   "source": [
    "# Save config information\n",
    "url = \"http://api.openweathermap.org/data/2.5/weather?\"\n",
    "\n",
    "# Build query URL\n",
    "query_url = f\"{url}appid={weather_api_key}&q=\"\n"
   ]
  },
  {
   "cell_type": "code",
   "execution_count": 13,
   "metadata": {},
   "outputs": [],
   "source": [
    "# Set up lists to hold response info\n",
    "city = []\n",
    "cloudiness = []\n",
    "country = []\n",
    "date = []\n",
    "humidity = []\n",
    "lat = []\n",
    "lng = []\n",
    "max_temp = []\n",
    "wind_speed = []\n",
    "\n",
    "\n",
    "for city in cities:\n",
    "    try:\n",
    "        response = requests.get(query_url + city).json()\n",
    "    except KeyError:\n",
    "        city.append(response['name'])\n",
    "        lat.append(response['coord']['lat'])\n",
    "        temp.append(response['main']['temp'])\n",
    "        city.append(response['name'])\n",
    "        cloudiness.append(response['clouds']['all'])\n",
    "        country.append(response['sys']['country'])\n",
    "        date.append(response['dt'])\n",
    "        humidity.append(response['main']['humidity'])\n",
    "        lat.append(response['coord']['lat'])\n",
    "        lng.append(response['coord']['lon'])\n",
    "        max_temp.append(response['main']['temp_max'])\n",
    "        wind_speed.append(response['wind']['speed'])\n",
    "        \n",
    "    "
   ]
  },
  {
   "cell_type": "code",
   "execution_count": 14,
   "metadata": {},
   "outputs": [
    {
     "name": "stdout",
     "output_type": "stream",
     "text": [
      "waspan\n"
     ]
    }
   ],
   "source": [
    "print(city)"
   ]
  },
  {
   "cell_type": "code",
   "execution_count": 15,
   "metadata": {},
   "outputs": [
    {
     "data": {
      "text/html": [
       "<div>\n",
       "<style scoped>\n",
       "    .dataframe tbody tr th:only-of-type {\n",
       "        vertical-align: middle;\n",
       "    }\n",
       "\n",
       "    .dataframe tbody tr th {\n",
       "        vertical-align: top;\n",
       "    }\n",
       "\n",
       "    .dataframe thead th {\n",
       "        text-align: right;\n",
       "    }\n",
       "</style>\n",
       "<table border=\"1\" class=\"dataframe\">\n",
       "  <thead>\n",
       "    <tr style=\"text-align: right;\">\n",
       "      <th></th>\n",
       "      <th>City</th>\n",
       "      <th>Cloudiness</th>\n",
       "      <th>Country</th>\n",
       "      <th>Date</th>\n",
       "      <th>Humidity</th>\n",
       "      <th>Lat</th>\n",
       "      <th>Lng</th>\n",
       "      <th>Max Temp</th>\n",
       "      <th>Wind Speed</th>\n",
       "    </tr>\n",
       "  </thead>\n",
       "  <tbody>\n",
       "  </tbody>\n",
       "</table>\n",
       "</div>"
      ],
      "text/plain": [
       "Empty DataFrame\n",
       "Columns: [City, Cloudiness, Country, Date, Humidity, Lat, Lng, Max Temp, Wind Speed]\n",
       "Index: []"
      ]
     },
     "execution_count": 15,
     "metadata": {},
     "output_type": "execute_result"
    }
   ],
   "source": [
    "# Create dictionary with lists\n",
    "weather_dict = {\n",
    "    \"City\": city,\n",
    "    \"Cloudiness\": cloudiness,\n",
    "    \"Country\": country,\n",
    "    \"Date\": date,\n",
    "    \"Humidity\": humidity,\n",
    "    \"Lat\": lat,\n",
    "    \"Lng\": lng,\n",
    "    \"Max Temp\": max_temp,\n",
    "    \"Wind Speed\": wind_speed  \n",
    "}\n",
    "\n",
    "# Create dataframe using dictionary\n",
    "weather_df = pd.DataFrame(weather_dict)\n",
    "weather_df.head()"
   ]
  },
  {
   "cell_type": "code",
   "execution_count": 16,
   "metadata": {},
   "outputs": [],
   "source": [
    "# Save dataframe to csv file\n",
    "weather_df.to_csv(output_data_file, header = True, index = True)"
   ]
  },
  {
   "cell_type": "code",
   "execution_count": null,
   "metadata": {},
   "outputs": [],
   "source": [
    "# Latitude vs Max Temperature plot\n",
    "plt.scatter(weather_df[\"Lat\"], weather_df[\"Max Temp\"], marker=\"o\")\n",
    "\n",
    "plt.title(\"Latitude vs Max Temperature\")\n",
    "plt.ylabel(\"Max Temperature\")\n",
    "plt.xlabel(\"Latitude\")\n",
    "plt.grid(True)\n",
    "\n",
    "plt.savefig(\"MaxTempvsLatitude.png\")"
   ]
  },
  {
   "cell_type": "code",
   "execution_count": null,
   "metadata": {},
   "outputs": [],
   "source": [
    "# Test code\n",
    "cty = \"London\"\n",
    "weather_response = requests.get(query_url + cty)\n",
    "weather_json = weather_response.json()\n",
    "pprint(weather_json)"
   ]
  }
 ],
 "metadata": {
  "kernelspec": {
   "display_name": "Python 3",
   "language": "python",
   "name": "python3"
  },
  "language_info": {
   "codemirror_mode": {
    "name": "ipython",
    "version": 3
   },
   "file_extension": ".py",
   "mimetype": "text/x-python",
   "name": "python",
   "nbconvert_exporter": "python",
   "pygments_lexer": "ipython3",
   "version": "3.6.6"
  }
 },
 "nbformat": 4,
 "nbformat_minor": 2
}
